{
 "cells": [
  {
   "cell_type": "code",
   "execution_count": 1,
   "metadata": {},
   "outputs": [],
   "source": [
    "import numpy as np\n",
    "import pandas as pd\n",
    "from lathes_model import LathesModel, Lathes_train_test_split\n",
    "import pickle\n",
    "import glob\n",
    "import SODA\n"
   ]
  },
  {
   "cell_type": "code",
   "execution_count": 2,
   "metadata": {},
   "outputs": [
    {
     "data": {
      "text/plain": [
       "[]"
      ]
     },
     "execution_count": 2,
     "metadata": {},
     "output_type": "execute_result"
    }
   ],
   "source": [
    "file_list = glob.glob('Base_Prototipo/*')\n",
    "file_list.sort()\n",
    "file_list\n"
   ]
  },
  {
   "cell_type": "code",
   "execution_count": 4,
   "metadata": {},
   "outputs": [],
   "source": [
    "good = pickle.load(open(\"Arquivos_Processados/1.pkl\", \"rb\"))\n",
    "bad = pickle.load(open(\"Arquivos_Processados/10.pkl\", \"rb\"))\n",
    "\n",
    "data = np.vstack((good,bad))"
   ]
  },
  {
   "cell_type": "code",
   "execution_count": 5,
   "metadata": {},
   "outputs": [
    {
     "data": {
      "text/plain": [
       "(18117120, 9)"
      ]
     },
     "execution_count": 5,
     "metadata": {},
     "output_type": "execute_result"
    }
   ],
   "source": [
    "data.shape"
   ]
  },
  {
   "cell_type": "code",
   "execution_count": 6,
   "metadata": {},
   "outputs": [
    {
     "name": "stdout",
     "output_type": "stream",
     "text": [
      "(18117120, 9)\n",
      "n_ids:  5055\n",
      "n_measures:  3584\n",
      "expanded_dimensions.shape:  (5055, 3584, 6)\n",
      "flattened_input.shape:  (5055, 21504)\n"
     ]
    }
   ],
   "source": [
    "#data = pickle.load(open(\"Input.pkl\", \"rb\"))\n",
    "\n",
    "print(data.shape)\n",
    "\n",
    "n_ids = len(np.unique(data[:, 0]))\n",
    "n_measures = int(np.max(data[:, 1]))\n",
    "\n",
    "print('n_ids: ', n_ids)\n",
    "print('n_measures: ', n_measures)\n",
    "\n",
    "expanded_dimensions = data[:, 2:8].reshape(n_ids, n_measures, 6)\n",
    "print('expanded_dimensions.shape: ', expanded_dimensions.shape)\n",
    "\n",
    "flattened_input = []\n",
    "\n",
    "for time_serie in expanded_dimensions:\n",
    "\n",
    "    flattened_input.append(np.ravel(time_serie))\n",
    "\n",
    "flattened_input = np.array(flattened_input)\n",
    "print('flattened_input.shape: ', flattened_input.shape)\n"
   ]
  },
  {
   "cell_type": "code",
   "execution_count": 7,
   "metadata": {},
   "outputs": [
    {
     "name": "stdout",
     "output_type": "stream",
     "text": [
      "\n",
      "Executing Data Partition...\n",
      "[----------                                        ] 20.00% - 1 of 5   Globaldensity_Calculator"
     ]
    }
   ],
   "source": [
    "Input = {\n",
    "    'StaticData': flattened_input,\n",
    "    'GridSize': 9,\n",
    "    'DistanceType': 'euclidean'\n",
    "}\n",
    "\n",
    "output = SODA.SelfOrganisedDirectionAwareDataPartitioning(Input)\n"
   ]
  },
  {
   "cell_type": "code",
   "execution_count": null,
   "metadata": {},
   "outputs": [],
   "source": []
  }
 ],
 "metadata": {
  "interpreter": {
   "hash": "1bd8572c472e4381368e4a3d2fe8a7710e92cd93203344516ab3a3cb8400177a"
  },
  "kernelspec": {
   "display_name": "Python 3.7.11 64-bit ('CNPq-3.7': conda)",
   "language": "python",
   "name": "python3"
  },
  "language_info": {
   "codemirror_mode": {
    "name": "ipython",
    "version": 3
   },
   "file_extension": ".py",
   "mimetype": "text/x-python",
   "name": "python",
   "nbconvert_exporter": "python",
   "pygments_lexer": "ipython3",
   "version": "3.7.11"
  },
  "orig_nbformat": 4
 },
 "nbformat": 4,
 "nbformat_minor": 2
}
