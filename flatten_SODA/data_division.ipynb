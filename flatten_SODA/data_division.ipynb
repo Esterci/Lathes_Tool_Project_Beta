{
 "cells": [
  {
   "cell_type": "code",
   "execution_count": 2,
   "metadata": {},
   "outputs": [],
   "source": [
    "import numpy as np\n",
    "import pickle\n",
    "from sklearn.model_selection import train_test_split\n",
    "import glob\n",
    "import os\n",
    "import pandas as pd\n",
    "\n",
    "class ProgBar:\n",
    "\n",
    "    def __init__(self, n_elements,int_str):\n",
    "        \n",
    "        import sys\n",
    "\n",
    "        self.n_elements = n_elements\n",
    "        self.progress = 0\n",
    "\n",
    "        print(int_str)\n",
    "\n",
    "        # initiallizing progress bar\n",
    "\n",
    "        info = '{:.2f}% - {:d} of {:d}'.format(0,0,n_elements)\n",
    "\n",
    "        formated_bar = ' '*int(50)\n",
    "\n",
    "        sys.stdout.write(\"\\r\")\n",
    "\n",
    "        sys.stdout.write('[%s] %s' % (formated_bar,info))\n",
    "\n",
    "        sys.stdout.flush()\n",
    "\n",
    "    def update(self,prog_info=None):\n",
    "        \n",
    "        import sys\n",
    "\n",
    "        if prog_info == None:\n",
    "\n",
    "            self.progress += 1\n",
    "\n",
    "            percent = (self.progress)/self.n_elements * 100 / 2\n",
    "\n",
    "            info = '{:.2f}% - {:d} of {:d}'.format(percent*2,self.progress,self.n_elements)\n",
    "\n",
    "            formated_bar = '-'* int (percent) + ' '*int(50-percent)\n",
    "\n",
    "            sys.stdout.write(\"\\r\")\n",
    "\n",
    "            sys.stdout.write('[%s] %s' % (formated_bar,info))\n",
    "\n",
    "            sys.stdout.flush()\n",
    "\n",
    "\n",
    "        else:\n",
    "\n",
    "            self.progress += 1\n",
    "\n",
    "            percent = (self.progress)/self.n_elements * 100 / 2\n",
    "\n",
    "            info = '{:.2f}% - {:d} of {:d} '.format(percent*2,self.progress,self.n_elements) + prog_info\n",
    "\n",
    "            formated_bar = '-'* int (percent) + ' '*int(50-percent)\n",
    "\n",
    "            sys.stdout.write(\"\\r\")\n",
    "\n",
    "            sys.stdout.write('[%s] %s' % (formated_bar,info))\n",
    "\n",
    "            sys.stdout.flush()\n"
   ]
  },
  {
   "cell_type": "code",
   "execution_count": 5,
   "metadata": {},
   "outputs": [],
   "source": [
    "file_list = glob.glob('raw_data/*')\n",
    "file_list.sort()\n"
   ]
  },
  {
   "cell_type": "code",
   "execution_count": 6,
   "metadata": {},
   "outputs": [
    {
     "name": "stdout",
     "output_type": "stream",
     "text": [
      "Reading and appending files...\n",
      "[--------------------------------------------------] 100.00% - 16 of 16"
     ]
    }
   ],
   "source": [
    "bar = ProgBar(len(file_list),\"Reading and appending files...\")\n",
    "\n",
    "converted_files = glob.glob('pickle/*')\n",
    "\n",
    "for file in file_list:\n",
    "\n",
    "    file_name = file.split('/')[-1]\n",
    "\n",
    "    convert_name = \"pickle/\" + file_name + \".pkl\"\n",
    "\n",
    "    if convert_name not in converted_files:\n",
    "\n",
    "        data = pd.read_csv(file)\n",
    "\n",
    "        pickle.dump(data.values,\n",
    "                    open(convert_name, \"wb\"), \n",
    "                    )\n",
    "                    \n",
    "    bar.update()\n",
    "    "
   ]
  },
  {
   "cell_type": "code",
   "execution_count": 7,
   "metadata": {},
   "outputs": [
    {
     "data": {
      "text/plain": [
       "['pickle/18-Jan-2022-09.11.05.csv.pkl',\n",
       " 'pickle/18-Jan-2022-09.48.05.csv.pkl',\n",
       " 'pickle/18-Jan-2022-10.10.58.csv.pkl',\n",
       " 'pickle/18-Jan-2022-10.30.43.csv.pkl',\n",
       " 'pickle/18-Jan-2022-10.49.48.csv.pkl',\n",
       " 'pickle/18-Jan-2022-11.15.56.csv.pkl',\n",
       " 'pickle/18-Jan-2022-11.41.18.csv.pkl',\n",
       " 'pickle/18-Jan-2022-12.04.21.csv.pkl',\n",
       " 'pickle/18-Jan-2022-12.24.50.csv.pkl',\n",
       " 'pickle/18-Jan-2022-12.45.51.csv.pkl',\n",
       " 'pickle/18-Jan-2022-14.25.20.csv.pkl',\n",
       " 'pickle/18-Jan-2022-15.01.43.csv.pkl',\n",
       " 'pickle/18-Jan-2022-15.29.52.csv.pkl',\n",
       " 'pickle/18-Jan-2022-15.57.26.csv.pkl',\n",
       " 'pickle/18-Jan-2022-16.08.40.csv.pkl',\n",
       " 'pickle/18-Jan-2022-16.20.45.csv.pkl']"
      ]
     },
     "execution_count": 7,
     "metadata": {},
     "output_type": "execute_result"
    }
   ],
   "source": [
    "converted_files = glob.glob('pickle/*')\n",
    "\n",
    "converted_files.sort()\n",
    "\n",
    "converted_files"
   ]
  },
  {
   "cell_type": "code",
   "execution_count": 9,
   "metadata": {},
   "outputs": [
    {
     "name": "stdout",
     "output_type": "stream",
     "text": [
      "Performing data scaling...\n",
      "[--------------------------------------------------] 100.00% - 528 of 528"
     ]
    }
   ],
   "source": [
    "\n",
    "percentages = [4]\n",
    "\n",
    "count = 0\n",
    "\n",
    "bar = ProgBar(len(converted_files)*len(percentages)*33,\"Performing data scaling...\")\n",
    "\n",
    "divisions = glob.glob('pickle/*')\n",
    "\n",
    "for percent in percentages:\n",
    "\n",
    "    for i in range(33):\n",
    "\n",
    "        n_good = 0\n",
    "        n_bad = 0\n",
    "\n",
    "        for f,file in enumerate(converted_files):\n",
    "\n",
    "            data  = pickle.load(open(file,'rb'))\n",
    "\n",
    "            aux = np.zeros((1,len(data[0])))\n",
    "\n",
    "            data = np.vstack((data,aux))\n",
    "\n",
    "            if f < 13:\n",
    "                target = np.zeros(len(data)).reshape(-1,1)\n",
    "\n",
    "                data = np.hstack((data,target))\n",
    "\n",
    "            else:\n",
    "                target = np.ones(len(data)).reshape(-1,1)\n",
    "\n",
    "                data = np.hstack((data,target))\n",
    "\n",
    "            n_measures = int(np.max(data[:, 1]))\n",
    "            n_ids = len(np.unique(data[:,0]))-1\n",
    "\n",
    "            expanded_dimensions = data.reshape(n_ids, n_measures, 9)\n",
    "\n",
    "            _, fold = train_test_split(expanded_dimensions,\n",
    "                                       test_size=percent)\n",
    "\n",
    "            train_fold, test_fold = train_test_split(fold,\n",
    "                                                     test_size=0.3)\n",
    "\n",
    "            if f == 0:\n",
    "                train_division = train_fold\n",
    "                test_division = test_fold\n",
    "\n",
    "            else:\n",
    "                train_division = np.vstack((train_division,train_fold))\n",
    "                test_division = np.vstack((test_division,test_fold))\n",
    "\n",
    "            bar.update()\n",
    "\n",
    "\n",
    "        pickle.dump(train_division,\n",
    "                    open(\"train_divisions/division__{}__n_series__{}__{}__.pkl\".format(count,percent,i), \"wb\"))\n",
    "        \n",
    "        pickle.dump(test_division,\n",
    "                    open(\"test_divisions/division__{}__n_series__{}__{}__.pkl\".format(count,percent,i), \"wb\"))\n",
    "        \n",
    "        count += 1\n",
    "\n"
   ]
  },
  {
   "cell_type": "code",
   "execution_count": 4,
   "metadata": {},
   "outputs": [
    {
     "ename": "NameError",
     "evalue": "name 'flattened_input' is not defined",
     "output_type": "error",
     "traceback": [
      "\u001b[0;31m---------------------------------------------------------------------------\u001b[0m",
      "\u001b[0;31mNameError\u001b[0m                                 Traceback (most recent call last)",
      "\u001b[0;32m/tmp/ipykernel_11273/143011625.py\u001b[0m in \u001b[0;36m<module>\u001b[0;34m\u001b[0m\n\u001b[0;32m----> 1\u001b[0;31m \u001b[0mtarget\u001b[0m \u001b[0;34m=\u001b[0m \u001b[0mnp\u001b[0m\u001b[0;34m.\u001b[0m\u001b[0mones\u001b[0m\u001b[0;34m(\u001b[0m\u001b[0mlen\u001b[0m\u001b[0;34m(\u001b[0m\u001b[0mflattened_input\u001b[0m\u001b[0;34m)\u001b[0m\u001b[0;34m)\u001b[0m\u001b[0;34m\u001b[0m\u001b[0;34m\u001b[0m\u001b[0m\n\u001b[0m\u001b[1;32m      2\u001b[0m \u001b[0;34m\u001b[0m\u001b[0m\n\u001b[1;32m      3\u001b[0m \u001b[0mtarget\u001b[0m\u001b[0;34m[\u001b[0m\u001b[0;34m:\u001b[0m\u001b[0;36m12758\u001b[0m\u001b[0;34m]\u001b[0m \u001b[0;34m=\u001b[0m \u001b[0;36m0\u001b[0m\u001b[0;34m\u001b[0m\u001b[0;34m\u001b[0m\u001b[0m\n\u001b[1;32m      4\u001b[0m \u001b[0;34m\u001b[0m\u001b[0m\n\u001b[1;32m      5\u001b[0m pickle.dump(flattened_input,\n",
      "\u001b[0;31mNameError\u001b[0m: name 'flattened_input' is not defined"
     ]
    }
   ],
   "source": [
    "target = np.ones(len(flattened_input))\n",
    "\n",
    "target[:12758] = 0\n",
    "\n",
    "pickle.dump(flattened_input,\n",
    "            open(\"/media/thiago/ANGELICA/thiago/pickle/flatenned_input__1.pkl\", \"wb\"), \n",
    "            protocol=4)\n",
    "\n",
    "pickle.dump(flattened_input,\n",
    "            open(\"/media/thiago/ANGELICA/thiago/pickle/flatenned_target__1.pkl\", \"wb\"), \n",
    "            protocol=4)"
   ]
  },
  {
   "cell_type": "code",
   "execution_count": null,
   "metadata": {},
   "outputs": [],
   "source": [
    "good_tools = pickle.load(open(\"good_tools.pkl\", \"rb\"))\n",
    "\n",
    "bad_tools = pickle.load(open(\"bad_tools.pkl\", \"rb\"))\n"
   ]
  },
  {
   "cell_type": "code",
   "execution_count": null,
   "metadata": {},
   "outputs": [],
   "source": []
  },
  {
   "cell_type": "code",
   "execution_count": 11,
   "metadata": {},
   "outputs": [],
   "source": [
    "file_list = glob.glob(\"data_divisions/*\")\n",
    "file_list.sort()"
   ]
  },
  {
   "cell_type": "code",
   "execution_count": 7,
   "metadata": {},
   "outputs": [],
   "source": [
    "for ii in range(int(len(file_list)/33)):\n",
    "\n",
    "    for j in range(33):\n",
    "\n",
    "        loc = ii*33 + j\n",
    "\n",
    "        print(file_list[int(loc)])\n",
    "\n",
    "        file = file_list[int(loc)]\n",
    "\n",
    "        data = pickle.load(open(file, \"rb\"))"
   ]
  },
  {
   "cell_type": "code",
   "execution_count": null,
   "metadata": {},
   "outputs": [],
   "source": []
  }
 ],
 "metadata": {
  "interpreter": {
   "hash": "1bd8572c472e4381368e4a3d2fe8a7710e92cd93203344516ab3a3cb8400177a"
  },
  "kernelspec": {
   "display_name": "Python 3.7.11 64-bit ('CNPq-3.7': conda)",
   "language": "python",
   "name": "python3"
  },
  "language_info": {
   "codemirror_mode": {
    "name": "ipython",
    "version": 3
   },
   "file_extension": ".py",
   "mimetype": "text/x-python",
   "name": "python",
   "nbconvert_exporter": "python",
   "pygments_lexer": "ipython3",
   "version": "3.7.11"
  },
  "orig_nbformat": 4
 },
 "nbformat": 4,
 "nbformat_minor": 2
}
