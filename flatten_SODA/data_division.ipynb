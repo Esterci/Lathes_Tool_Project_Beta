{
 "cells": [
  {
   "cell_type": "code",
   "execution_count": 1,
   "metadata": {},
   "outputs": [],
   "source": [
    "import numpy as np\n",
    "import pickle\n",
    "from sklearn.model_selection import train_test_split"
   ]
  },
  {
   "cell_type": "code",
   "execution_count": 2,
   "metadata": {},
   "outputs": [],
   "source": [
    "class ProgBar:\n",
    "\n",
    "    def __init__(self, n_elements,int_str):\n",
    "        \n",
    "        import sys\n",
    "\n",
    "        self.n_elements = n_elements\n",
    "        self.progress = 0\n",
    "\n",
    "        print(int_str)\n",
    "\n",
    "        # initiallizing progress bar\n",
    "\n",
    "        info = '{:.2f}% - {:d} of {:d}'.format(0,0,n_elements)\n",
    "\n",
    "        formated_bar = ' '*int(50)\n",
    "\n",
    "        sys.stdout.write(\"\\r\")\n",
    "\n",
    "        sys.stdout.write('[%s] %s' % (formated_bar,info))\n",
    "\n",
    "        sys.stdout.flush()\n",
    "\n",
    "    def update(self,prog_info=None):\n",
    "        \n",
    "        import sys\n",
    "\n",
    "        if prog_info == None:\n",
    "\n",
    "            self.progress += 1\n",
    "\n",
    "            percent = (self.progress)/self.n_elements * 100 / 2\n",
    "\n",
    "            info = '{:.2f}% - {:d} of {:d}'.format(percent*2,self.progress,self.n_elements)\n",
    "\n",
    "            formated_bar = '-'* int (percent) + ' '*int(50-percent)\n",
    "\n",
    "            sys.stdout.write(\"\\r\")\n",
    "\n",
    "            sys.stdout.write('[%s] %s' % (formated_bar,info))\n",
    "\n",
    "            sys.stdout.flush()\n",
    "\n",
    "\n",
    "        else:\n",
    "\n",
    "            self.progress += 1\n",
    "\n",
    "            percent = (self.progress)/self.n_elements * 100 / 2\n",
    "\n",
    "            info = '{:.2f}% - {:d} of {:d} '.format(percent*2,self.progress,self.n_elements) + prog_info\n",
    "\n",
    "            formated_bar = '-'* int (percent) + ' '*int(50-percent)\n",
    "\n",
    "            sys.stdout.write(\"\\r\")\n",
    "\n",
    "            sys.stdout.write('[%s] %s' % (formated_bar,info))\n",
    "\n",
    "            sys.stdout.flush()\n"
   ]
  },
  {
   "cell_type": "code",
   "execution_count": 3,
   "metadata": {},
   "outputs": [],
   "source": [
    "good_tools = pickle.load(open(\"good_tools.pkl\", \"rb\"))\n",
    "\n",
    "bad_tools = pickle.load(open(\"bad_tools.pkl\", \"rb\"))\n"
   ]
  },
  {
   "cell_type": "code",
   "execution_count": 4,
   "metadata": {},
   "outputs": [
    {
     "name": "stdout",
     "output_type": "stream",
     "text": [
      "Creating data divisinons...\n",
      "[--------------------------------------------------] 100.00% - 231 of 231"
     ]
    }
   ],
   "source": [
    "n_time_series = [10,20,30,40,80,160,320]\n",
    "\n",
    "bar = ProgBar(len(n_time_series)*33,\"Creating data divisinons...\")\n",
    "\n",
    "for count,n in enumerate(n_time_series):\n",
    "\n",
    "    n_good = n*0.8\n",
    "\n",
    "    n_bad = n*0.2\n",
    "\n",
    "    good_size = n_good/len(good_tools)\n",
    "\n",
    "    bad_size = n_bad/len(bad_tools)\n",
    "\n",
    "    for i in range(33):\n",
    "\n",
    "        _, good_division = train_test_split(good_tools,\n",
    "                                            test_size=good_size)\n",
    "\n",
    "        _, bad_division = train_test_split(bad_tools,\n",
    "                                        test_size=bad_size)\n",
    "\n",
    "        division = np.vstack((good_division,bad_division))\n",
    "\n",
    "        flattened_input = []\n",
    "\n",
    "        for time_serie in division:\n",
    "\n",
    "            flattened_input.append(np.ravel(time_serie))\n",
    "\n",
    "        flattened_input = np.array(flattened_input)\n",
    "\n",
    "        target = np.ones(len(division))\n",
    "\n",
    "        target[:len(good_division)] = 0\n",
    "\n",
    "        pickle.dump(flattened_input,open(\"/media/thiago/ANGELICA/data_divisions/division__{}__n_series__{}__{}__.pkl\".format(count,n,i), \"wb\"), protocol=4)\n",
    "        pickle.dump(target,open(\"/media/thiago/ANGELICA/data_divisions/target__{}__n_series__{}__{}__.pkl\".format(count,n,i), \"wb\"))\n",
    "\n",
    "        bar.update()\n"
   ]
  },
  {
   "cell_type": "code",
   "execution_count": null,
   "metadata": {},
   "outputs": [],
   "source": []
  }
 ],
 "metadata": {
  "interpreter": {
   "hash": "1bd8572c472e4381368e4a3d2fe8a7710e92cd93203344516ab3a3cb8400177a"
  },
  "kernelspec": {
   "display_name": "Python 3.7.11 64-bit ('CNPq-3.7': conda)",
   "language": "python",
   "name": "python3"
  },
  "language_info": {
   "codemirror_mode": {
    "name": "ipython",
    "version": 3
   },
   "file_extension": ".py",
   "mimetype": "text/x-python",
   "name": "python",
   "nbconvert_exporter": "python",
   "pygments_lexer": "ipython3",
   "version": "3.7.11"
  },
  "orig_nbformat": 4
 },
 "nbformat": 4,
 "nbformat_minor": 2
}
