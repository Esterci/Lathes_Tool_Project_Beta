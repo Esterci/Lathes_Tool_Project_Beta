{
 "cells": [
  {
   "cell_type": "code",
   "execution_count": 2,
   "metadata": {},
   "outputs": [],
   "source": [
    "import numpy as np\n",
    "import pandas as pd\n",
    "\n",
    "from tsfresh.feature_extraction import extract_features, EfficientFCParameters\n",
    "\n",
    "from datetime import datetime\n",
    "\n",
    "import glob"
   ]
  },
  {
   "cell_type": "code",
   "execution_count": 3,
   "metadata": {},
   "outputs": [],
   "source": [
    "file_list = glob.glob('Base_Prototipo/*')\n",
    "file_list.sort()"
   ]
  },
  {
   "cell_type": "code",
   "execution_count": 6,
   "metadata": {},
   "outputs": [],
   "source": [
    "# Gambiarra pra rodar só os dados de um dia\n",
    "matheus = []\n",
    "thiago = []\n",
    "for f in file_list:\n",
    "    dia = f.split('/')[1].split('-')[0]\n",
    "    \n",
    "    if dia == '18':\n",
    "        matheus.append(f)\n",
    "    else:\n",
    "        thiago.append(f)\n",
    "\n",
    "file_list = matheus #thiago # modificar essa linha para rodar o dia 19"
   ]
  },
  {
   "cell_type": "code",
   "execution_count": null,
   "metadata": {
    "scrolled": true
   },
   "outputs": [
    {
     "name": "stderr",
     "output_type": "stream",
     "text": [
      "Feature Extraction: 100%|██████████| 3/3 [00:15<00:00,  5.32s/it]\n"
     ]
    },
    {
     "name": "stdout",
     "output_type": "stream",
     "text": [
      "---> Base_Prototipo/18-Jan-2022-08.38.11.csv\n",
      "0:00:16.647465\n",
      " \n"
     ]
    },
    {
     "name": "stderr",
     "output_type": "stream",
     "text": [
      "Feature Extraction: 100%|██████████| 1/1 [00:10<00:00, 10.39s/it]\n"
     ]
    },
    {
     "name": "stdout",
     "output_type": "stream",
     "text": [
      "---> Base_Prototipo/18-Jan-2022-08.50.02.csv\n",
      "0:00:10.823608\n",
      " \n"
     ]
    },
    {
     "name": "stderr",
     "output_type": "stream",
     "text": [
      "Feature Extraction: 100%|██████████| 454/454 [1:07:10<00:00,  8.88s/it]\n"
     ]
    },
    {
     "name": "stdout",
     "output_type": "stream",
     "text": [
      "---> Base_Prototipo/18-Jan-2022-09.11.05.csv\n",
      "1:07:18.079208\n",
      " \n"
     ]
    }
   ],
   "source": [
    "df = pd.DataFrame()\n",
    "\n",
    "for f in file_list:\n",
    "    data = np.genfromtxt(f, delimiter=',')\n",
    "    \n",
    "    df2 = pd.DataFrame(data, columns=['id', 'time', \n",
    "                                     'Sensor_0', 'Sensor_1',\n",
    "                                     'Sensor_2', 'Sensor_3',\n",
    "                                     'Sensor_4', 'Sensor_5'])\n",
    "    \n",
    "    inicio = datetime.now()\n",
    "    \n",
    "    extracted_features = extract_features(df2,\n",
    "                                          column_id=\"id\",\n",
    "                                          default_fc_parameters=EfficientFCParameters(),\n",
    "                                         chunksize=1)\n",
    "    \n",
    "    df = pd.concat([df, extracted_features])\n",
    "    \n",
    "    print('--->', f)\n",
    "    print(datetime.now() - inicio)\n",
    "    print(' ')\n",
    "    df.to_csv('extracted_features.csv')\n",
    "    \n",
    "    \n",
    "df = df.dropna(axis='columns')\n",
    "df.to_csv('extracted_features.csv')"
   ]
  },
  {
   "cell_type": "code",
   "execution_count": null,
   "metadata": {},
   "outputs": [],
   "source": []
  }
 ],
 "metadata": {
  "kernelspec": {
   "display_name": "Python 3 (ipykernel)",
   "language": "python",
   "name": "python3"
  },
  "language_info": {
   "codemirror_mode": {
    "name": "ipython",
    "version": 3
   },
   "file_extension": ".py",
   "mimetype": "text/x-python",
   "name": "python",
   "nbconvert_exporter": "python",
   "pygments_lexer": "ipython3",
   "version": "3.7.6"
  }
 },
 "nbformat": 4,
 "nbformat_minor": 4
}
