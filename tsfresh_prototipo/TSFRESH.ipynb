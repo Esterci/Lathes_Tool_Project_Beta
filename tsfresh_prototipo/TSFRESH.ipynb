{
 "cells": [
  {
   "cell_type": "code",
   "execution_count": 3,
   "metadata": {},
   "outputs": [],
   "source": [
    "# import libraries\n",
    "\n",
    "import numpy as np\n",
    "import pandas as pd\n",
    "from tsfresh.feature_extraction import extract_features, EfficientFCParameters\n",
    "from datetime import datetime\n",
    "import glob\n",
    "import shutil\n",
    "import glob\n",
    "import pickle\n",
    "import os"
   ]
  },
  {
   "cell_type": "code",
   "execution_count": 2,
   "metadata": {},
   "outputs": [],
   "source": [
    "class ProgBar:\n",
    "\n",
    "    def __init__(self, n_elements,int_str):\n",
    "        \n",
    "        import sys\n",
    "\n",
    "        self.n_elements = n_elements\n",
    "        self.progress = 0\n",
    "\n",
    "        print(int_str)\n",
    "\n",
    "        # initiallizing progress bar\n",
    "\n",
    "        info = '{:.2f}% - {:d} of {:d}'.format(0,0,n_elements)\n",
    "\n",
    "        formated_bar = ' '*int(50)\n",
    "\n",
    "        sys.stdout.write(\"\\r\")\n",
    "\n",
    "        sys.stdout.write('[%s] %s' % (formated_bar,info))\n",
    "\n",
    "        sys.stdout.flush()\n",
    "\n",
    "    def update(self,prog_info=None):\n",
    "        \n",
    "        import sys\n",
    "\n",
    "        if prog_info == None:\n",
    "\n",
    "            self.progress += 1\n",
    "\n",
    "            percent = (self.progress)/self.n_elements * 100 / 2\n",
    "\n",
    "            info = '{:.2f}% - {:d} of {:d}'.format(percent*2,self.progress,self.n_elements)\n",
    "\n",
    "            formated_bar = '-'* int (percent) + ' '*int(50-percent)\n",
    "\n",
    "            sys.stdout.write(\"\\r\")\n",
    "\n",
    "            sys.stdout.write('[%s] %s' % (formated_bar,info))\n",
    "\n",
    "            sys.stdout.flush()\n",
    "\n",
    "\n",
    "        else:\n",
    "\n",
    "            self.progress += 1\n",
    "\n",
    "            percent = (self.progress)/self.n_elements * 100 / 2\n",
    "\n",
    "            info = '{:.2f}% - {:d} of {:d} '.format(percent*2,self.progress,self.n_elements) + prog_info\n",
    "\n",
    "            formated_bar = '-'* int (percent) + ' '*int(50-percent)\n",
    "\n",
    "            sys.stdout.write(\"\\r\")\n",
    "\n",
    "            sys.stdout.write('[%s] %s' % (formated_bar,info))\n",
    "\n",
    "            sys.stdout.flush()\n"
   ]
  },
  {
   "cell_type": "code",
   "execution_count": 7,
   "metadata": {},
   "outputs": [],
   "source": [
    "file_list = glob.glob('Base_Prototipo/*')\n",
    "file_list.sort()"
   ]
  },
  {
   "cell_type": "code",
   "execution_count": 8,
   "metadata": {},
   "outputs": [
    {
     "name": "stdout",
     "output_type": "stream",
     "text": [
      "\n",
      "Converting PDF to LaTex...\n",
      "[--------------------------------------------------] 100.00% - 27 of 27\n",
      "Saving Input...\n",
      "\n",
      "Input saved.\n"
     ]
    }
   ],
   "source": [
    "df = pd.DataFrame()\n",
    "target = [10,11]\n",
    "\n",
    "# Initializing progress bar\n",
    "\n",
    "bar = ProgBar(len(file_list),'\\nConverting PDF to LaTex...')\n",
    "\n",
    "for i,f in enumerate(file_list):\n",
    "\n",
    "    if i == 0:    \n",
    "\n",
    "        data = np.genfromtxt(f, delimiter=',')\n",
    "\n",
    "        if i in target: y = np.ones(len(data)).reshape(-1,1)\n",
    "\n",
    "        else: y = np.zeros(len(data)).reshape(-1,1)\n",
    "\n",
    "        data  = np.hstack((data,y))\n",
    "\n",
    "        pickle.dump( data, open( \"Arquivos_Processados/{}.pkl\".format(i), \"wb\" ), protocol=4 )\n",
    "\n",
    "        os.remove(f) \n",
    "\n",
    "\n",
    "    else:\n",
    "\n",
    "        new_data = np.genfromtxt(f, delimiter=',')\n",
    "        \n",
    "        if i in target: y = np.ones(len(new_data)).reshape(-1,1)\n",
    "\n",
    "        else: y = np.zeros(len(new_data)).reshape(-1,1)\n",
    "\n",
    "        new_data  = np.hstack((new_data,y))\n",
    "\n",
    "        data = np.vstack((data,new_data))\n",
    "\n",
    "        pickle.dump( new_data, open( \"Arquivos_Processados/{}.pkl\".format(i), \"wb\" ), protocol=4 )\n",
    "\n",
    "        os.remove(f) \n",
    "\n",
    "    bar.update()\n",
    "\n",
    "print(\"\\nSaving Input...\")\n",
    "\n",
    "pickle.dump( data, open( \"Input.pkl\", \"wb\" ), protocol=4 )\n",
    "\n",
    "print(\"\\nInput saved.\")\n",
    "\n",
    "#del data\n"
   ]
  },
  {
   "cell_type": "code",
   "execution_count": 7,
   "metadata": {},
   "outputs": [],
   "source": [
    "np.savetxt(\"data.csv\",data,delimiter=',')"
   ]
  },
  {
   "cell_type": "code",
   "execution_count": 8,
   "metadata": {},
   "outputs": [],
   "source": [
    "del data\n"
   ]
  },
  {
   "cell_type": "code",
   "execution_count": 6,
   "metadata": {},
   "outputs": [
    {
     "data": {
      "text/plain": [
       "(0, 0)"
      ]
     },
     "execution_count": 6,
     "metadata": {},
     "output_type": "execute_result"
    }
   ],
   "source": [
    "df.shape"
   ]
  },
  {
   "cell_type": "code",
   "execution_count": 9,
   "metadata": {},
   "outputs": [],
   "source": [
    "# Gambiarra pra rodar só os dados de um dia\n",
    "matheus = []\n",
    "thiago = []\n",
    "for f in file_list:\n",
    "    dia = f.split('/')[1].split('-')[0]\n",
    "    \n",
    "    if dia == '18':\n",
    "        matheus.append(f)\n",
    "    else:\n",
    "        thiago.append(f)\n",
    "\n",
    "file_list = thiago # modificar essa linha para rodar o dia 19"
   ]
  },
  {
   "cell_type": "code",
   "execution_count": 12,
   "metadata": {
    "scrolled": true
   },
   "outputs": [
    {
     "name": "stderr",
     "output_type": "stream",
     "text": [
      "Feature Extraction:   0%|          | 0/40 [00:00<?, ?it/s]"
     ]
    }
   ],
   "source": [
    "df = pd.DataFrame()\n",
    "\n",
    "for f in file_list:\n",
    "    \n",
    "    new_name = \"Arquivos_Processados/\" + f.split('/')[-1]\n",
    "\n",
    "    data = np.genfromtxt(f, delimiter=',')\n",
    "    \n",
    "    df2 = pd.DataFrame(data, columns=['id', 'time', \n",
    "                                     'Sensor_0', 'Sensor_1',\n",
    "                                     'Sensor_2', 'Sensor_3',\n",
    "                                     'Sensor_4', 'Sensor_5'])\n",
    "    \n",
    "    inicio = datetime.now()\n",
    "\n",
    "    extracted_features = extract_features(df2, column_id=\"id\", column_sort=\"time\",\n",
    "                                default_fc_parameters = EfficientFCParameters(),\n",
    "                                chunksize=100,\n",
    "                                n_jobs=4,\n",
    "                                disable_progressbar=False)\n",
    "    \n",
    "    df = pd.concat([df, extracted_features])\n",
    "    \n",
    "    print('--->', f)\n",
    "    print(datetime.now() - inicio)\n",
    "    print(' ')\n",
    "    df.to_csv('extracted_features.csv')\n",
    "\n",
    "    shutil.move(f, new_name)\n",
    "    \n",
    "    \n",
    "df = df.dropna(axis='columns')\n",
    "df.to_csv('extracted_features.csv')"
   ]
  },
  {
   "cell_type": "code",
   "execution_count": 6,
   "metadata": {},
   "outputs": [
    {
     "data": {
      "text/plain": [
       "'Arquivos_Processados/19-Jan-2022-08.47.14.csv'"
      ]
     },
     "execution_count": 6,
     "metadata": {},
     "output_type": "execute_result"
    }
   ],
   "source": []
  },
  {
   "cell_type": "code",
   "execution_count": null,
   "metadata": {},
   "outputs": [],
   "source": []
  }
 ],
 "metadata": {
  "kernelspec": {
   "display_name": "Python 3 (ipykernel)",
   "language": "python",
   "name": "python3"
  },
  "language_info": {
   "codemirror_mode": {
    "name": "ipython",
    "version": 3
   },
   "file_extension": ".py",
   "mimetype": "text/x-python",
   "name": "python",
   "nbconvert_exporter": "python",
   "pygments_lexer": "ipython3",
   "version": "3.7.11"
  }
 },
 "nbformat": 4,
 "nbformat_minor": 4
}
