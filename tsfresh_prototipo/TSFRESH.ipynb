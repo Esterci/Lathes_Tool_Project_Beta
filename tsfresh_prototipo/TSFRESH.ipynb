{
 "cells": [
  {
   "cell_type": "code",
   "execution_count": 5,
   "metadata": {},
   "outputs": [],
   "source": [
    "# import libraries\n",
    "\n",
    "import numpy as np\n",
    "import pandas as pd\n",
    "from tsfresh.feature_extraction import extract_features, EfficientFCParameters\n",
    "from datetime import datetime\n",
    "import glob\n",
    "import shutil\n",
    "import glob"
   ]
  },
  {
   "cell_type": "code",
   "execution_count": 8,
   "metadata": {},
   "outputs": [],
   "source": [
    "file_list = glob.glob('Base_Prototipo/*')\n",
    "file_list.sort()"
   ]
  },
  {
   "cell_type": "code",
   "execution_count": 9,
   "metadata": {},
   "outputs": [],
   "source": [
    "# Gambiarra pra rodar só os dados de um dia\n",
    "matheus = []\n",
    "thiago = []\n",
    "for f in file_list:\n",
    "    dia = f.split('/')[1].split('-')[0]\n",
    "    \n",
    "    if dia == '18':\n",
    "        matheus.append(f)\n",
    "    else:\n",
    "        thiago.append(f)\n",
    "\n",
    "file_list = thiago # modificar essa linha para rodar o dia 19"
   ]
  },
  {
   "cell_type": "code",
   "execution_count": 12,
   "metadata": {
    "scrolled": true
   },
   "outputs": [
    {
     "name": "stderr",
     "output_type": "stream",
     "text": [
      "Feature Extraction:   0%|          | 0/40 [00:00<?, ?it/s]"
     ]
    }
   ],
   "source": [
    "df = pd.DataFrame()\n",
    "\n",
    "for f in file_list:\n",
    "    \n",
    "    new_name = \"Arquivos_Processados/\" + f.split('/')[-1]\n",
    "\n",
    "    data = np.genfromtxt(f, delimiter=',')\n",
    "    \n",
    "    df2 = pd.DataFrame(data, columns=['id', 'time', \n",
    "                                     'Sensor_0', 'Sensor_1',\n",
    "                                     'Sensor_2', 'Sensor_3',\n",
    "                                     'Sensor_4', 'Sensor_5'])\n",
    "    \n",
    "    inicio = datetime.now()\n",
    "\n",
    "    extracted_features = extract_features(df2, column_id=\"id\", column_sort=\"time\",\n",
    "                                default_fc_parameters = EfficientFCParameters(),\n",
    "                                chunksize=100,\n",
    "                                n_jobs=4,\n",
    "                                disable_progressbar=False)\n",
    "    \n",
    "    df = pd.concat([df, extracted_features])\n",
    "    \n",
    "    print('--->', f)\n",
    "    print(datetime.now() - inicio)\n",
    "    print(' ')\n",
    "    df.to_csv('extracted_features.csv')\n",
    "\n",
    "    shutil.move(f, new_name)\n",
    "    \n",
    "    \n",
    "df = df.dropna(axis='columns')\n",
    "df.to_csv('extracted_features.csv')"
   ]
  },
  {
   "cell_type": "code",
   "execution_count": 6,
   "metadata": {},
   "outputs": [
    {
     "data": {
      "text/plain": [
       "'Arquivos_Processados/19-Jan-2022-08.47.14.csv'"
      ]
     },
     "execution_count": 6,
     "metadata": {},
     "output_type": "execute_result"
    }
   ],
   "source": []
  },
  {
   "cell_type": "code",
   "execution_count": null,
   "metadata": {},
   "outputs": [],
   "source": []
  }
 ],
 "metadata": {
  "kernelspec": {
   "display_name": "Python 3 (ipykernel)",
   "language": "python",
   "name": "python3"
  },
  "language_info": {
   "codemirror_mode": {
    "name": "ipython",
    "version": 3
   },
   "file_extension": ".py",
   "mimetype": "text/x-python",
   "name": "python",
   "nbconvert_exporter": "python",
   "pygments_lexer": "ipython3",
   "version": "3.7.11"
  }
 },
 "nbformat": 4,
 "nbformat_minor": 4
}
